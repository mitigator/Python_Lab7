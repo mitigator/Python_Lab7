{
 "cells": [
  {
   "cell_type": "markdown",
   "metadata": {},
   "source": [
    "Q1. Create two 3×3 matrices using the random function in Numpy and perform the following operations.\n",
    "è Product (prod)\n",
    "è Multiplication (multiply)\n",
    "è Dot Product (dot)"
   ]
  },
  {
   "cell_type": "code",
   "execution_count": 5,
   "metadata": {},
   "outputs": [
    {
     "name": "stdout",
     "output_type": "stream",
     "text": [
      "Product (prod): 8.810799298355092e-06\n",
      "Multiplication (multiply):\n",
      " [[0.10935911 0.44911857 0.57081179]\n",
      " [0.05588168 0.48883598 0.10737001]\n",
      " [0.17675448 0.58559544 0.01591754]]\n",
      "Dot Product (dot):\n",
      " [[1.17371436 1.48684462 1.24795653]\n",
      " [0.5757612  0.8517223  0.60645082]\n",
      " [0.3494817  0.62809957 0.37816073]]\n"
     ]
    }
   ],
   "source": [
    "import numpy as np\n",
    "\n",
    "a = np.random.rand(3, 3)\n",
    "b = np.random.rand(3, 3)\n",
    "\n",
    "prod = np.prod(a)\n",
    "mult = np.multiply(a, b)\n",
    "dotp = np.dot(a, b)\n",
    "\n",
    "print(\"Product (prod):\", prod)\n",
    "print(\"Multiplication (multiply):\\n\", mult)\n",
    "print(\"Dot Product (dot):\\n\", dotp)\n",
    "\n"
   ]
  },
  {
   "cell_type": "markdown",
   "metadata": {},
   "source": [
    "Q2. Perform the following set operations using the Numpy functions.\n",
    "è Union\n",
    "è Intersection\n",
    "è Set difference\n",
    "è XOR"
   ]
  },
  {
   "cell_type": "code",
   "execution_count": 6,
   "metadata": {},
   "outputs": [
    {
     "name": "stdout",
     "output_type": "stream",
     "text": [
      "Union: [1 2 3 4 5 6 7]\n",
      "Intersection: [3 4 5]\n",
      "Set Difference (A - B): [1 2]\n",
      "Set Difference (B - A): [6 7]\n",
      "XOR: [1 2 6 7]\n"
     ]
    }
   ],
   "source": [
    "import numpy as np\n",
    "\n",
    "A = np.array([1, 2, 3, 4, 5])\n",
    "B = np.array([3, 4, 5, 6, 7])\n",
    "\n",
    "U = np.union1d(A, B)\n",
    "I = np.intersect1d(A, B)\n",
    "D_AB = np.setdiff1d(A, B)\n",
    "D_BA = np.setdiff1d(B, A)\n",
    "XOR = np.setxor1d(A, B)\n",
    "\n",
    "print(\"Union:\", U)\n",
    "print(\"Intersection:\", I)\n",
    "print(\"Set Difference (A - B):\", D_AB)\n",
    "print(\"Set Difference (B - A):\", D_BA)\n",
    "print(\"XOR:\", XOR)\n"
   ]
  },
  {
   "cell_type": "markdown",
   "metadata": {},
   "source": [
    "Q3. Create a 1D array using Random function and perform the following operations.\n",
    "è Cumulative sum\n",
    "è Cumulative Product\n",
    "è Discrete difference (with n=3)\n",
    "è Find the unique elements from the array"
   ]
  },
  {
   "cell_type": "code",
   "execution_count": 7,
   "metadata": {},
   "outputs": [
    {
     "name": "stdout",
     "output_type": "stream",
     "text": [
      "Cumulative Sum: [0.44012415 1.03286997 1.16366949 1.61403817 2.40041667 3.39187753\n",
      " 4.38623274 5.00352113 5.73615856 5.74664324]\n",
      "Cumulative Product: [4.40124152e-01 2.60881749e-01 3.41232083e-02 1.53680242e-02\n",
      " 1.20850839e-02 1.19818877e-02 1.19142524e-02 7.35452972e-03\n",
      " 5.38820371e-03 5.64935954e-05]\n",
      "Discrete Difference (n=3): [ 1.3960834  -0.76507478 -0.14736814 -0.07126053 -0.17777315  0.872377\n",
      " -1.32991761]\n",
      "Unique Elements: [0.01048468 0.13079952 0.44012415 0.45036868 0.59274581 0.61728839\n",
      " 0.73263742 0.78637851 0.99146086 0.9943552 ]\n"
     ]
    }
   ],
   "source": [
    "import numpy as np\n",
    "\n",
    "a = np.random.rand(10)\n",
    "\n",
    "cs = np.cumsum(a)\n",
    "cp = np.cumprod(a)\n",
    "dd = np.diff(a, n=3)\n",
    "ue = np.unique(a)\n",
    "\n",
    "print(\"Cumulative Sum:\", cs)\n",
    "print(\"Cumulative Product:\", cp)\n",
    "print(\"Discrete Difference (n=3):\", dd)\n",
    "print(\"Unique Elements:\", ue)\n"
   ]
  },
  {
   "cell_type": "markdown",
   "metadata": {},
   "source": [
    "Q4. Create two 1D array and perform the Addition using zip(), add() and user defined function (frompyfunc())"
   ]
  },
  {
   "cell_type": "code",
   "execution_count": 18,
   "metadata": {},
   "outputs": [
    {
     "name": "stdout",
     "output_type": "stream",
     "text": [
      "Result using zip(): [ 7.  9. 11. 13. 15.]\n",
      "Result using np.add(): [ 7.  9. 11. 13. 15.]\n",
      "Result using custom function (frompyfunc()): [7.0 9.0 11.0 13.0 15.0]\n"
     ]
    }
   ],
   "source": [
    "import numpy as np\n",
    "\n",
    "a_input = input(\"Enter values for array 'a' comma-separated: \")\n",
    "b_input = input(\"Enter values for array 'b' comma-separated: \")\n",
    "a = np.array([float(x) for x in a_input.split(',')])\n",
    "b = np.array([float(x) for x in b_input.split(',')])\n",
    "r_z = np.array([x + y for x, y in zip(a, b)])\n",
    "r_n = np.add(a, b)\n",
    "\n",
    "def f(x, y):\n",
    "    return x + y\n",
    "add_f = np.frompyfunc(f, 2, 1)\n",
    "r_c = add_f(a, b)\n",
    "\n",
    "print(\"Result using zip():\", r_z)\n",
    "print(\"Result using np.add():\", r_n)\n",
    "print(\"Result using custom function (frompyfunc()):\", r_c)\n"
   ]
  },
  {
   "cell_type": "markdown",
   "metadata": {},
   "source": [
    "Q5. Find the LCM (Least Common Multiple) and GCD (Greatest Common Divisor) of an array of elements using reduce()."
   ]
  },
  {
   "cell_type": "code",
   "execution_count": 14,
   "metadata": {},
   "outputs": [
    {
     "name": "stdout",
     "output_type": "stream",
     "text": [
      "LCM: 360\n",
      "GCD: 6\n"
     ]
    }
   ],
   "source": [
    "from functools import reduce\n",
    "import numpy as np\n",
    "from math import gcd\n",
    "\n",
    "\n",
    "input_str = input(\"Enter values for the array comma-separated: \")\n",
    "a = np.array([int(x) for x in input_str.split(',')])\n",
    "\n",
    "def calculate_lcm(x, y):\n",
    "    return x * y // gcd(x, y)\n",
    "\n",
    "def calculate_gcd(x, y):\n",
    "    while y != 0:\n",
    "        x, y = y, x % y\n",
    "    return x\n",
    "\n",
    "lcm = reduce(calculate_lcm, a)\n",
    "gcd = reduce(calculate_gcd, a)\n",
    "\n",
    "print(\"LCM:\", lcm)\n",
    "print(\"GCD:\", gcd)\n",
    "\n"
   ]
  }
 ],
 "metadata": {
  "kernelspec": {
   "display_name": "Python 3",
   "language": "python",
   "name": "python3"
  },
  "language_info": {
   "codemirror_mode": {
    "name": "ipython",
    "version": 3
   },
   "file_extension": ".py",
   "mimetype": "text/x-python",
   "name": "python",
   "nbconvert_exporter": "python",
   "pygments_lexer": "ipython3",
   "version": "3.11.1"
  },
  "orig_nbformat": 4
 },
 "nbformat": 4,
 "nbformat_minor": 2
}
